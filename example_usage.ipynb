{
 "cells": [
  {
   "cell_type": "markdown",
   "metadata": {},
   "source": [
    "# Canvas Participation Analyzer - Example Usage\n",
    "\n",
    "This notebook demonstrates how to:\n",
    "1. Analyze student participation in Canvas forums and messages\n",
    "2. Apply different grading schemes  \n",
    "3. Integrate with student roster\n",
    "4. Export results for gradebook\n",
    "\n",
    "**Configuration:** All settings are managed in `config.py` - update it with your Canvas details before running."
   ]
  },
  {
   "cell_type": "markdown",
   "metadata": {},
   "source": [
    "## Setup and Configuration\n",
    "\n",
    "**Before running this notebook:**\n",
    "1. Edit `config.py` with your Canvas settings:\n",
    "   - Set your Canvas API token\n",
    "   - Update the course ID\n",
    "   - Configure professor names for filtering\n",
    "   - Adjust other settings as needed\n",
    "\n",
    "2. Or create a `.env` file with your Canvas API token:\n",
    "   ```\n",
    "   CANVAS_API_TOKEN=your_token_here\n",
    "   ```"
   ]
  },
  {
   "cell_type": "code",
   "execution_count": null,
   "metadata": {},
   "outputs": [],
   "source": [
    "import os\n",
    "import sys\n",
    "import pandas as pd\n",
    "from dotenv import load_dotenv\n",
    "from participation_analyzer import analyze_participation, export_participation_data\n",
    "from grading_schemes import apply_grading_scheme, load_student_roster, preview_grading_schemes, export_graded_data\n",
    "import config\n",
    "\n",
    "# Load environment variables from .env file\n",
    "load_dotenv()\n",
    "\n",
    "print(\"🎯 Canvas Participation Analyzer - Jupyter Notebook\")\n",
    "print(\"=\" * 60)"
   ]
  },
  {
   "cell_type": "markdown",
   "metadata": {},
   "source": [
    "## Configuration Check"
   ]
  },
  {
   "cell_type": "code",
   "execution_count": null,
   "metadata": {},
   "outputs": [],
   "source": [
    "print(\"🔧 Configuration Check\")\n",
    "print(\"=\" * 30)\n",
    "\n",
    "# Check configuration from config.py\n",
    "if not config.CANVAS_API_TOKEN:\n",
    "    print(\"❌ Error: Canvas API token not found!\")\n",
    "    print(\"Please set CANVAS_API_TOKEN in config.py or as environment variable\")\n",
    "else:\n",
    "    print(f\"✅ Canvas API token: Set (ends with {config.CANVAS_API_TOKEN[-4:]})\")\n",
    "\n",
    "print(f\"📋 Course ID: {config.COURSE_ID}\")\n",
    "print(f\"✅ Canvas URL: {config.CANVAS_BASE_URL}\")\n",
    "print(f\"🎓 Professor filter: {config.PROFESSOR_NAMES}\")\n",
    "print(f\"📅 Start date: {config.SEMESTER_START_DATE}\")\n",
    "print(f\"✅ Default grading scheme: {config.DEFAULT_GRADING_SCHEME}\")\n",
    "\n",
    "# Check data files\n",
    "roster_file = \"data_files/lista.csv\"\n",
    "if os.path.exists(roster_file):\n",
    "    print(f\"✅ Student roster: Found ({roster_file})\")\n",
    "else:\n",
    "    print(f\"⚠️  Student roster: Not found ({roster_file})\")\n",
    "    print(\"   This is optional but recommended\")\n",
    "\n",
    "print(\"\\n💡 To configure:\")\n",
    "print(\"  • Edit config.py with your Canvas settings\")\n",
    "print(\"  • Or create a .env file with CANVAS_API_TOKEN\")\n",
    "print(\"  • Update COURSE_ID in config.py for your course\")"
   ]
  },
  {
   "cell_type": "markdown",
   "metadata": {},
   "source": [
    "## Step 1: Analyze Participation"
   ]
  },
  {
   "cell_type": "code",
   "execution_count": null,
   "metadata": {},
   "outputs": [],
   "source": [
    "print(\"Step 1: Analyzing participation...\")\n",
    "\n",
    "participation_data = analyze_participation(\n",
    "    course_id=config.COURSE_ID,\n",
    "    canvas_token=config.CANVAS_API_TOKEN,\n",
    "    include_forums=config.INCLUDE_FORUMS,\n",
    "    include_messages=config.INCLUDE_MESSAGES\n",
    ")\n",
    "\n",
    "if participation_data.empty:\n",
    "    print(\"⚠️  No participation data found. Check your course ID and API token.\")\n",
    "else:\n",
    "    print(f\"✅ Found participation data for {len(participation_data)} students\")\n",
    "    print(f\"📊 Total participations range: {participation_data['total_participations'].min()} - {participation_data['total_participations'].max()}\")\n",
    "    \n",
    "    # Display sample data\n",
    "    print(\"\\n📋 Sample participation data:\")\n",
    "    display(participation_data.head())"
   ]
  },
  {
   "cell_type": "markdown",
   "metadata": {},
   "source": [
    "## Step 2: Export Raw Participation Data"
   ]
  },
  {
   "cell_type": "code",
   "execution_count": null,
   "metadata": {},
   "outputs": [],
   "source": [
    "print(\"Step 2: Exporting raw participation data...\")\n",
    "\n",
    "export_participation_data(participation_data, \"raw_participation_data.csv\")\n",
    "print(\"✅ Raw data exported to: raw_participation_data.csv\")"
   ]
  },
  {
   "cell_type": "markdown",
   "metadata": {},
   "source": [
    "## Step 3: Preview Grading Schemes"
   ]
  },
  {
   "cell_type": "code",
   "execution_count": null,
   "metadata": {},
   "outputs": [],
   "source": [
    "print(\"Step 3: Previewing grading schemes...\")\n",
    "\n",
    "if not participation_data.empty:\n",
    "    max_participations = participation_data['total_participations'].max()\n",
    "    preview_range = list(range(0, min(int(max_participations) + 2, 12)))\n",
    "    \n",
    "    print(f\"\\n📊 Grading schemes preview (based on actual data range 0-{int(max_participations)}):\")\n",
    "    preview_grading_schemes(preview_range)\n",
    "    \n",
    "    print(\"\\n📊 Recommendations:\")\n",
    "    print(\"• Tiered: Best for encouraging participation with clear milestones\")\n",
    "    print(\"• Linear: Fair proportional grading\")\n",
    "    print(\"• Logarithmic: Very generous to low participation\")\n",
    "    print(\"• Square Root: Balanced approach\")\n",
    "    print(\"• Percentage: Simple percentage-based\")"
   ]
  },
  {
   "cell_type": "markdown",
   "metadata": {},
   "source": [
    "## Step 4: Load Student Roster (Optional)"
   ]
  },
  {
   "cell_type": "code",
   "execution_count": null,
   "metadata": {},
   "outputs": [],
   "source": [
    "print(\"Step 4: Loading student roster...\")\n",
    "\n",
    "student_roster = load_student_roster(\"data_files/lista.csv\")\n",
    "\n",
    "if student_roster is not None:\n",
    "    print(f\"✅ Student roster loaded: {len(student_roster)} students\")\n",
    "    print(\"\\n📋 Sample roster data:\")\n",
    "    display(student_roster.head())\n",
    "else:\n",
    "    print(\"⚠️  No student roster found. Analysis will continue without roster integration.\")"
   ]
  },
  {
   "cell_type": "markdown",
   "metadata": {},
   "source": [
    "## Step 5: Apply Grading Scheme"
   ]
  },
  {
   "cell_type": "code",
   "execution_count": null,
   "metadata": {},
   "outputs": [],
   "source": [
    "print(\"Step 5: Applying grading scheme...\")\n",
    "\n",
    "if not participation_data.empty:\n",
    "    graded_data = apply_grading_scheme(\n",
    "        participation_data,\n",
    "        scheme_name=config.DEFAULT_GRADING_SCHEME,\n",
    "        student_roster=student_roster\n",
    "    )\n",
    "    \n",
    "    print(f\"✅ Grading applied using '{config.DEFAULT_GRADING_SCHEME}' scheme\")\n",
    "    print(f\"📊 Grade range: {graded_data['grade'].min():.1f} - {graded_data['grade'].max():.1f}\")\n",
    "    \n",
    "    # Display sample graded data\n",
    "    print(\"\\n📋 Sample graded data:\")\n",
    "    display(graded_data.head())\n",
    "else:\n",
    "    print(\"❌ No participation data to grade\")\n",
    "    graded_data = pd.DataFrame()"
   ]
  },
  {
   "cell_type": "markdown",
   "metadata": {},
   "source": [
    "## Step 6: Export Final Grades"
   ]
  },
  {
   "cell_type": "code",
   "execution_count": null,
   "metadata": {},
   "outputs": [],
   "source": [
    "print(\"Step 6: Exporting final grades...\")\n",
    "\n",
    "if not participation_data.empty and not graded_data.empty:\n",
    "    export_graded_data(graded_data, \"participation_grades_final.csv\")\n",
    "    print(\"✅ Final grades exported to: participation_grades_final.csv\")\n",
    "else:\n",
    "    print(\"❌ No data to export\")"
   ]
  },
  {
   "cell_type": "markdown",
   "metadata": {},
   "source": [
    "## Analysis Summary"
   ]
  },
  {
   "cell_type": "code",
   "execution_count": null,
   "metadata": {},
   "outputs": [],
   "source": [
    "if not participation_data.empty and not graded_data.empty:\n",
    "    print(\"=\" * 60)\n",
    "    print(\"📊 ANALYSIS SUMMARY\")\n",
    "    print(\"=\" * 60)\n",
    "    \n",
    "    total_students = len(graded_data)\n",
    "    avg_grade = graded_data['grade'].mean()\n",
    "    avg_participation = graded_data['total_participations'].mean()\n",
    "    \n",
    "    print(f\"Total students: {total_students}\")\n",
    "    print(f\"Average participation: {avg_participation:.1f}\")\n",
    "    print(f\"Average grade: {avg_grade:.2f}\")\n",
    "    print(f\"Grade range: {graded_data['grade'].min():.1f} - {graded_data['grade'].max():.1f}\")\n",
    "    \n",
    "    # Show top participants\n",
    "    print(f\"\\n🏆 Top 5 participants:\")\n",
    "    top_participants = graded_data.nlargest(5, 'total_participations')\n",
    "    for i, (_, student) in enumerate(top_participants.iterrows(), 1):\n",
    "        name = student.get('user_name', 'Unknown')\n",
    "        participations = student['total_participations']\n",
    "        grade = student['grade']\n",
    "        print(f\"  {i}. {name}: {participations} participations → {grade:.1f}\")\n",
    "    \n",
    "    # Show activity levels\n",
    "    print(f\"\\n📈 Activity level distribution:\")\n",
    "    if 'activity_level' in graded_data.columns:\n",
    "        activity_counts = graded_data['activity_level'].value_counts()\n",
    "        for level, count in activity_counts.items():\n",
    "            percentage = (count / total_students) * 100\n",
    "            print(f\"  {level}: {count} students ({percentage:.1f}%)\")\n",
    "    \n",
    "    # Show grade distribution\n",
    "    print(f\"\\n📊 Grade distribution:\")\n",
    "    grade_counts = graded_data['grade'].value_counts().sort_index()\n",
    "    for grade, count in grade_counts.items():\n",
    "        percentage = (count / total_students) * 100\n",
    "        print(f\"  {grade:.1f}: {count} students ({percentage:.1f}%)\")\n",
    "    \n",
    "    print(\"\\n✅ Analysis complete!\")\n",
    "    print(f\"📁 Files created:\")\n",
    "    print(f\"  • raw_participation_data.csv\")\n",
    "    print(f\"  • participation_grades_final.csv\")\n",
    "else:\n",
    "    print(\"❌ No data to analyze\")"
   ]
  },
  {
   "cell_type": "markdown",
   "metadata": {},
   "source": [
    "## Additional Analysis (Optional)"
   ]
  },
  {
   "cell_type": "code",
   "execution_count": null,
   "metadata": {},
   "outputs": [],
   "source": [
    "# Optional: Create visualizations if matplotlib is available\n",
    "try:\n",
    "    import matplotlib.pyplot as plt\n",
    "    \n",
    "    if not participation_data.empty and not graded_data.empty:\n",
    "        # Participation distribution\n",
    "        plt.figure(figsize=(12, 4))\n",
    "        \n",
    "        plt.subplot(1, 2, 1)\n",
    "        plt.hist(graded_data['total_participations'], bins=10, alpha=0.7, color='skyblue')\n",
    "        plt.title('Participation Distribution')\n",
    "        plt.xlabel('Total Participations')\n",
    "        plt.ylabel('Number of Students')\n",
    "        plt.grid(True, alpha=0.3)\n",
    "        \n",
    "        # Grade distribution\n",
    "        plt.subplot(1, 2, 2)\n",
    "        plt.hist(graded_data['grade'], bins=10, alpha=0.7, color='lightgreen')\n",
    "        plt.title('Grade Distribution')\n",
    "        plt.xlabel('Grade')\n",
    "        plt.ylabel('Number of Students')\n",
    "        plt.grid(True, alpha=0.3)\n",
    "        \n",
    "        plt.tight_layout()\n",
    "        plt.show()\n",
    "        \n",
    "        # Participation vs Grade scatter plot\n",
    "        plt.figure(figsize=(8, 6))\n",
    "        plt.scatter(graded_data['total_participations'], graded_data['grade'], alpha=0.6)\n",
    "        plt.title('Participation vs Grade')\n",
    "        plt.xlabel('Total Participations')\n",
    "        plt.ylabel('Grade')\n",
    "        plt.grid(True, alpha=0.3)\n",
    "        plt.show()\n",
    "        \n",
    "    else:\n",
    "        print(\"📊 No data available for visualization\")\n",
    "        \n",
    "except ImportError:\n",
    "    print(\"📊 Matplotlib not available. Install with: pip install matplotlib\")"
   ]
  },
  {
   "cell_type": "markdown",
   "metadata": {},
   "source": [
    "## Grading Schemes Demo"
   ]
  },
  {
   "cell_type": "code",
   "execution_count": null,
   "metadata": {},
   "outputs": [],
   "source": [
    "print(\"🎯 Grading Schemes Demonstration\")\n",
    "print(\"=\" * 50)\n",
    "\n",
    "# Sample participation data\n",
    "sample_participations = [0, 1, 2, 3, 4, 5, 6, 7, 8, 9, 10, 11]\n",
    "\n",
    "print(\"Sample participation counts:\", sample_participations)\n",
    "print()\n",
    "\n",
    "# Preview all schemes\n",
    "preview_grading_schemes(sample_participations)"
   ]
  },
  {
   "cell_type": "markdown",
   "metadata": {},
   "source": [
    "## Next Steps\n",
    "\n",
    "After running this analysis, you can:\n",
    "\n",
    "1. **Review the exported files:**\n",
    "   - `raw_participation_data.csv` - Raw participation data\n",
    "   - `participation_grades_final.csv` - Final grades ready for import\n",
    "\n",
    "2. **Customize the analysis:**\n",
    "   - Modify `config.py` for your Canvas instance\n",
    "   - Try different grading schemes\n",
    "   - Adjust professor filtering\n",
    "   - Set different date ranges\n",
    "\n",
    "3. **Import to gradebook:**\n",
    "   - Use the final CSV file to import grades to your LMS\n",
    "   - Match student names/IDs with your roster\n",
    "\n",
    "4. **Further analysis:**\n",
    "   - Analyze participation patterns over time\n",
    "   - Compare forum vs message participation\n",
    "   - Track engagement trends"
   ]
  }
 ],
 "metadata": {
  "kernelspec": {
   "display_name": "auto_calif (3.13.5)",
   "language": "python",
   "name": "python3"
  },
  "language_info": {
   "codemirror_mode": {
    "name": "ipython",
    "version": 3
   },
   "file_extension": ".py",
   "mimetype": "text/x-python",
   "name": "python",
   "nbconvert_exporter": "python",
   "pygments_lexer": "ipython3",
   "version": "3.13.5"
  }
 },
 "nbformat": 4,
 "nbformat_minor": 4
}
